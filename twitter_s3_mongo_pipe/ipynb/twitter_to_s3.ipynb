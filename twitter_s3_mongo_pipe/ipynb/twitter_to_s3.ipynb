{
 "cells": [
  {
   "cell_type": "code",
   "execution_count": 2,
   "metadata": {},
   "outputs": [
    {
     "name": "stdout",
     "output_type": "stream",
     "text": [
      "Collecting boto3\n",
      "  Downloading https://files.pythonhosted.org/packages/2b/69/ce291161cc82e3edad9f057b9158f5723882d41d8935d6aa5a53a26bb8b7/boto3-1.7.62-py2.py3-none-any.whl (128kB)\n",
      "\u001b[K    100% |████████████████████████████████| 133kB 2.2MB/s ta 0:00:01\n",
      "\u001b[?25hCollecting jmespath<1.0.0,>=0.7.1 (from boto3)\n",
      "  Downloading https://files.pythonhosted.org/packages/b7/31/05c8d001f7f87f0f07289a5fc0fc3832e9a57f2dbd4d3b0fee70e0d51365/jmespath-0.9.3-py2.py3-none-any.whl\n",
      "Collecting botocore<1.11.0,>=1.10.62 (from boto3)\n",
      "  Downloading https://files.pythonhosted.org/packages/24/ec/95df2edaa21e426581f41745e0de355170b8cb6eed2a2a5641c0c348df33/botocore-1.10.62-py2.py3-none-any.whl (4.4MB)\n",
      "\u001b[K    100% |████████████████████████████████| 4.4MB 151kB/s eta 0:00:01   17% |█████▊                          | 788kB 7.4MB/s eta 0:00:01\n",
      "\u001b[?25hCollecting s3transfer<0.2.0,>=0.1.10 (from boto3)\n",
      "  Downloading https://files.pythonhosted.org/packages/d7/14/2a0004d487464d120c9fb85313a75cd3d71a7506955be458eebfe19a6b1d/s3transfer-0.1.13-py2.py3-none-any.whl (59kB)\n",
      "\u001b[K    100% |████████████████████████████████| 61kB 6.0MB/s eta 0:00:01\n",
      "\u001b[?25hCollecting docutils>=0.10 (from botocore<1.11.0,>=1.10.62->boto3)\n",
      "  Downloading https://files.pythonhosted.org/packages/36/fa/08e9e6e0e3cbd1d362c3bbee8d01d0aedb2155c4ac112b19ef3cae8eed8d/docutils-0.14-py3-none-any.whl (543kB)\n",
      "\u001b[K    100% |████████████████████████████████| 552kB 1.2MB/s eta 0:00:01\n",
      "\u001b[?25hRequirement already satisfied: python-dateutil<3.0.0,>=2.1; python_version >= \"2.7\" in /opt/conda/lib/python3.6/site-packages (from botocore<1.11.0,>=1.10.62->boto3)\n",
      "Requirement already satisfied: six>=1.5 in /opt/conda/lib/python3.6/site-packages (from python-dateutil<3.0.0,>=2.1; python_version >= \"2.7\"->botocore<1.11.0,>=1.10.62->boto3)\n",
      "Installing collected packages: jmespath, docutils, botocore, s3transfer, boto3\n",
      "Successfully installed boto3-1.7.62 botocore-1.10.62 docutils-0.14 jmespath-0.9.3 s3transfer-0.1.13\n",
      "\u001b[33mYou are using pip version 9.0.3, however version 10.0.1 is available.\n",
      "You should consider upgrading via the 'pip install --upgrade pip' command.\u001b[0m\n"
     ]
    }
   ],
   "source": [
    "!pip install boto3"
   ]
  },
  {
   "cell_type": "code",
   "execution_count": 3,
   "metadata": {},
   "outputs": [],
   "source": [
    "from lib import create_tweet_iterator\n",
    "\n",
    "token ='1019793971629789184-yi7r3HwZFPQRcFPiFy1TGCDF7d2II0'\n",
    "token_secret ='2U0z3Srf9yfChASncmQj4lqpxssjftxdYkuKnCkkWIQ08'\n",
    "consumer_key ='lJqaPrC9JVHW70jauorbOJIKl'\n",
    "consumer_secret ='LSG2wNMQHUiho9DmK7EDvzLObXVAG2XatXQVAQw38IlqwxIGDo'\n",
    "bounding_box = \"-118.5137323688,34.0001996344,-118.4702449172,34.0331651696\" \n",
    "\n",
    "tweet_iterator = create_tweet_iterator(token,token_secret,consumer_key,consumer_secret,\n",
    "                                      bounding_box)"
   ]
  },
  {
   "cell_type": "code",
   "execution_count": 7,
   "metadata": {},
   "outputs": [],
   "source": [
    "this_tweet=next(tweet_iterator)"
   ]
  },
  {
   "cell_type": "code",
   "execution_count": 11,
   "metadata": {},
   "outputs": [],
   "source": [
    "import pandas as pd\n"
   ]
  },
  {
   "cell_type": "code",
   "execution_count": 13,
   "metadata": {},
   "outputs": [],
   "source": [
    "tweets=[]\n",
    "for _ in range(20):\n",
    "    this_tweet=next(tweet_iterator)\n",
    "    tweets.append(this_tweet)\n",
    "tweets\n"
   ]
  },
  {
   "cell_type": "code",
   "execution_count": 14,
   "metadata": {},
   "outputs": [],
   "source": [
    "import json\n",
    "from lib import create_timestamped_filename\n",
    "username='jia'\n",
    "filename = create_timestamped_filename(username)"
   ]
  },
  {
   "cell_type": "code",
   "execution_count": 15,
   "metadata": {},
   "outputs": [],
   "source": [
    "with open(filename, 'w') as outfile:     \n",
    "    json.dump(tweets, outfile)"
   ]
  },
  {
   "cell_type": "code",
   "execution_count": 16,
   "metadata": {},
   "outputs": [],
   "source": [
    "from lib import create_boto_client\n",
    "s3_client = create_boto_client()"
   ]
  },
  {
   "cell_type": "code",
   "execution_count": 17,
   "metadata": {},
   "outputs": [],
   "source": [
    "from lib import write_file_to_S3\n",
    "filename='tweets-jia-2018-07-24_02-20-18-817448.json'\n",
    "S3_BUCKET = 'uclax-data-science'\n",
    "write_file_to_S3(s3_client, filename, S3_BUCKET)"
   ]
  },
  {
   "cell_type": "code",
   "execution_count": 18,
   "metadata": {},
   "outputs": [
    {
     "data": {
      "text/plain": [
       "['data.json',\n",
       " 'tweets-dennissibo-2018-07-24_02-12-06-781711.json',\n",
       " 'tweets-jia-2018-07-24_02-20-18-817448.json',\n",
       " 'tweets-joshua-2018-07-21_14-09-23-363540.json',\n",
       " 'tweets-joshua-2018-07-23_11-22-20-369005.json',\n",
       " 'tweets-joshua-2018-07-23_11-59-41-971097.json',\n",
       " 'tweets-nina-2018-07-24_02-16-10-999671.json',\n",
       " 'tweets-stanley-2018-07-24_02-04-13-008476.json',\n",
       " 'tweets-stanley-2018-07-24_02-22-16-555638.json',\n",
       " 'tweets-stanley-2018-07-24_02-22-54-081139.json',\n",
       " 'tweets-yan-2018-07-24_02-11-42-466065.json']"
      ]
     },
     "execution_count": 18,
     "metadata": {},
     "output_type": "execute_result"
    }
   ],
   "source": [
    "from lib import list_files_in_S3_bucket\n",
    "S3_BUCKET = 'uclax-data-science'\n",
    "list_files_in_S3_bucket(s3_client, S3_BUCKET)"
   ]
  },
  {
   "cell_type": "code",
   "execution_count": 20,
   "metadata": {},
   "outputs": [],
   "source": [
    "from lib import read_object_from_S3 \n",
    "S3_BUCKET = 'uclax-data-science'\n",
    "tweets_from_s3 = read_object_from_S3(s3_client,'tweets-jia-2018-07-24_02-20-18-817448.json' , S3_BUCKET)"
   ]
  },
  {
   "cell_type": "code",
   "execution_count": 21,
   "metadata": {},
   "outputs": [
    {
     "name": "stdout",
     "output_type": "stream",
     "text": [
      "Requirement already satisfied: pymongo in /opt/conda/lib/python3.6/site-packages\n",
      "\u001b[33mYou are using pip version 9.0.3, however version 10.0.1 is available.\n",
      "You should consider upgrading via the 'pip install --upgrade pip' command.\u001b[0m\n"
     ]
    }
   ],
   "source": [
    "!pip install pymongo"
   ]
  },
  {
   "cell_type": "code",
   "execution_count": 29,
   "metadata": {},
   "outputs": [
    {
     "data": {
      "text/plain": [
       "<pymongo.results.InsertOneResult at 0x7f6ff9c987c8>"
      ]
     },
     "execution_count": 29,
     "metadata": {},
     "output_type": "execute_result"
    }
   ],
   "source": [
    "from lib import create_mongo_client_to_database_collection\n",
    "collection_client = create_mongo_client_to_database_collection('twitter', 'tweets')\n",
    "collection_client.insert_one(next(tweet_iterator))\n",
    "                                                               "
   ]
  },
  {
   "cell_type": "code",
   "execution_count": 31,
   "metadata": {},
   "outputs": [],
   "source": [
    "for tweet in tweets:\n",
    "    collection_client.insert_one(next(tweet_iterator))\n",
    "    "
   ]
  },
  {
   "cell_type": "code",
   "execution_count": null,
   "metadata": {},
   "outputs": [],
   "source": []
  }
 ],
 "metadata": {
  "kernelspec": {
   "display_name": "Python 3",
   "language": "python",
   "name": "python3"
  },
  "language_info": {
   "codemirror_mode": {
    "name": "ipython",
    "version": 3
   },
   "file_extension": ".py",
   "mimetype": "text/x-python",
   "name": "python",
   "nbconvert_exporter": "python",
   "pygments_lexer": "ipython3",
   "version": "3.6.5"
  }
 },
 "nbformat": 4,
 "nbformat_minor": 2
}
